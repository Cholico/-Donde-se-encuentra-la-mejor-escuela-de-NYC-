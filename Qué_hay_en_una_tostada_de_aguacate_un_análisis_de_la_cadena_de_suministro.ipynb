{
  "nbformat": 4,
  "nbformat_minor": 0,
  "metadata": {
    "colab": {
      "provenance": [],
      "authorship_tag": "ABX9TyMgl4YVplcBZrd8OLyWapK8",
      "include_colab_link": true
    },
    "kernelspec": {
      "name": "python3",
      "display_name": "Python 3"
    },
    "language_info": {
      "name": "python"
    }
  },
  "cells": [
    {
      "cell_type": "markdown",
      "metadata": {
        "id": "view-in-github",
        "colab_type": "text"
      },
      "source": [
        "<a href=\"https://colab.research.google.com/github/Cholico/-Donde-se-encuentra-la-mejor-escuela-de-NYC-/blob/main/Qu%C3%A9_hay_en_una_tostada_de_aguacate_un_an%C3%A1lisis_de_la_cadena_de_suministro.ipynb\" target=\"_parent\"><img src=\"https://colab.research.google.com/assets/colab-badge.svg\" alt=\"Open In Colab\"/></a>"
      ]
    },
    {
      "cell_type": "markdown",
      "source": [],
      "metadata": {
        "id": "Vcd4PPgMXf6d"
      }
    },
    {
      "cell_type": "markdown",
      "source": [
        "# ¿Qué hay en una tostada de aguacate? Un análisis de la cadena de suministro\n",
        "\n",
        "Te encuentras en Londres, elaborando una deliciosa tostada de aguacate, un plato cuya popularidad ha aumentado drásticamente en los menús de desayuno desde la década de 2010. Esta sencilla receta sólo requiere cinco ingredientes: un aguacate maduro, medio limón, una pizca generosa de sal en escamas, dos rebanadas de pan de masa madre y un buen chorrito de aceite de oliva virgen extra. La mayoría de estos ingredientes ahora son productos básicos en las tiendas de comestibles y, como descubrirá con este proyecto, ¡no es poca cosa!\n",
        "\n",
        "En este proyecto, realizará un análisis de la cadena de suministro de tres ingredientes utilizados en las tostadas de aguacate utilizando la base de datos Open Food Facts. Esta base de datos contiene información extensa y de fuente abierta sobre diversos alimentos, incluidos sus orígenes. A través de este análisis, obtendrá una comprensión profunda de la compleja cadena de suministro involucrada en la producción de un solo plato.\n",
        "\n",
        "Se proporcionan tres pares de archivos en la carpeta de datos:\n",
        "- Un archivo CSV para cada ingrediente, como `avocado.csv`, con datos sobre cada alimento y países de origen.\n",
        "- Un archivo TXT para cada ingrediente, como `relevant_avocado_categories`, que contiene solo las etiquetas de categoría de interés para ese alimento.\n",
        "\n",
        "Aquí hay algunos otros puntos clave sobre estos archivos:\n",
        "- Algunas de las filas de datos en cada uno de los tres archivos CSV no contienen datos relevantes para su investigación. En cada conjunto de datos, deberá filtrar las filas con datos irrelevantes, según los valores de la columna \"categories_tags\". Ejemplos de categorías son frutas, verduras y aceites a base de frutas. Filtre el DataFrame para incluir solo filas donde `categories_tags` contenga una de las etiquetas en las categorías relevantes para ese ingrediente.\n",
        "- Cada fila de datos suele tener varias etiquetas de categoría en la columna `categories_tags`.\n",
        "Hay una columna en cada archivo CSV llamada `origins_tags`, que contiene cadenas para el país de origen de cada artículo.\n",
        "\n",
        "Después de completar este proyecto, contará con una lista de ingredientes y sus países de origen y estará bien posicionado para lanzar otros análisis que exploren cuánto tiempo, en promedio, estos ingredientes pasan en el mar."
      ],
      "metadata": {
        "id": "E7j8AKx9Xiut"
      }
    },
    {
      "cell_type": "code",
      "source": [
        "import pandas as pd\n",
        "import seaborn as sns"
      ],
      "metadata": {
        "id": "xz-Yvmw1Xzk3"
      },
      "execution_count": 8,
      "outputs": []
    },
    {
      "cell_type": "code",
      "source": [
        "avocado = pd.read_csv('avocado.csv', sep='\\t')\n"
      ],
      "metadata": {
        "id": "XEn1Vfq5sMll"
      },
      "execution_count": 33,
      "outputs": []
    },
    {
      "cell_type": "code",
      "source": [
        "subset_columns = [ 'code', 'lc', 'product_name_en', 'quantity', 'serving_size', 'packaging_tags', 'brands', 'brands_tags', 'categories_tags', 'labels_tags', 'countries', 'countries_tags', 'origins','origins_tags']\n",
        "avocado = avocado[subset_columns]"
      ],
      "metadata": {
        "id": "rOYZjHWawgpM"
      },
      "execution_count": 10,
      "outputs": []
    },
    {
      "cell_type": "code",
      "source": [
        "with open (\"/content/relevant_avocado_categories.txt\", \"r\") as file:\n",
        "  relevant_avocado_categories = file.read().splitlines()\n",
        "  file.close()\n",
        "\n",
        "relevant_avocado_categories"
      ],
      "metadata": {
        "colab": {
          "base_uri": "https://localhost:8080/"
        },
        "id": "5inpIm7xwx5F",
        "outputId": "75ff38c1-d409-4c05-ffea-b20e0b183cd9"
      },
      "execution_count": 11,
      "outputs": [
        {
          "output_type": "execute_result",
          "data": {
            "text/plain": [
              "['en:avocadoes',\n",
              " 'en:avocados',\n",
              " 'en:fresh-foods',\n",
              " 'en:fresh-vegetables',\n",
              " 'en:fruchte',\n",
              " 'en:fruits',\n",
              " 'en:raw-green-avocados',\n",
              " 'en:tropical-fruits',\n",
              " 'en:tropische-fruchte',\n",
              " 'en:vegetables-based-foods',\n",
              " 'fr:hass-avocados']"
            ]
          },
          "metadata": {},
          "execution_count": 11
        }
      ]
    },
    {
      "cell_type": "code",
      "source": [
        "avocado['categories_list'] = avocado['categories_tags'].str.split(',')\n",
        "avocado.dropna(subset='categories_list', inplace=True)"
      ],
      "metadata": {
        "id": "iP9ByC24deYH"
      },
      "execution_count": 14,
      "outputs": []
    },
    {
      "cell_type": "code",
      "source": [
        "avocado = avocado[avocado['categories_list'].apply(lambda x: any([i for i in x if i in relevant_avocado_categories]))]"
      ],
      "metadata": {
        "id": "t71QiexHf24r"
      },
      "execution_count": 16,
      "outputs": []
    },
    {
      "cell_type": "code",
      "source": [
        "avocados_uk = avocado[(avocado['countries']=='United Kingdom')]"
      ],
      "metadata": {
        "id": "Ils8WrFGhmjz"
      },
      "execution_count": 30,
      "outputs": []
    },
    {
      "cell_type": "code",
      "source": [
        "avocado_origin = (avocados_uk['origins_tags'].value_counts().index[0])\n",
        "avocado_origin = avocado_origin.lstrip(\"en:\")\n"
      ],
      "metadata": {
        "colab": {
          "base_uri": "https://localhost:8080/",
          "height": 36
        },
        "id": "O8k6kKnIknKO",
        "outputId": "7d62e23b-c0c3-4f18-ab2d-a60c441b4b3d"
      },
      "execution_count": 32,
      "outputs": [
        {
          "output_type": "execute_result",
          "data": {
            "text/plain": [
              "'peru'"
            ],
            "application/vnd.google.colaboratory.intrinsic+json": {
              "type": "string"
            }
          },
          "metadata": {},
          "execution_count": 32
        }
      ]
    },
    {
      "cell_type": "code",
      "source": [
        "def read_and_filter_data(filename, relevant_categories):\n",
        "  df = pd.read_csv(filename, sep='\\t')\n",
        "\n",
        "  # Subset large DataFrame to include only relevant columns\n",
        "  subset_columns = [ 'code', 'lc', 'product_name_en', 'quantity', 'serving_size', 'packaging_tags', 'brands', 'brands_tags', 'categories_tags', 'labels_tags', 'countries', 'countries_tags', 'origins','origins_tags']\n",
        "  df = df[subset_columns]\n",
        "\n",
        "  with open (relevant_categories, \"r\") as file:\n",
        "    categories = file.read().splitlines()\n",
        "    file.close()\n",
        "\n",
        "  # Split tags into lists\n",
        "  df['categories_list'] = df['categories_tags'].str.split(',')\n",
        "\n",
        "  # Drop rows with null categories data\n",
        "  df = df.dropna(subset = 'categories_list')\n",
        "\n",
        "  # Filter data for relevant categories\n",
        "  df = df[df['categories_list'].apply(lambda x: any([i for i in x if i in categories]))]\n",
        "\n",
        "  # Filter data for the UK\n",
        "  df_uk = df[(df['countries']=='United Kingdom')]\n",
        "\n",
        "  # Find top origin country string with the highest count\n",
        "  top_origin_string = (df_uk['origins_tags'].value_counts().index[0])\n",
        "\n",
        "  # Clean up top origin country string\n",
        "  top_origin_country = top_origin_string.lstrip(\"en:\")\n",
        "  top_origin_country = top_origin_country.replace('-', ' ')\n",
        "\n",
        "  print(f'**{filename[:-4]} origins**','\\n', top_origin_country, '\\n')\n",
        "\n",
        "  print (\"Top origin country: \", top_origin_country)\n",
        "  print (\"\\n\")\n",
        "\n",
        "  # End of function - return top origin country for this ingredient\n",
        "  return top_origin_country"
      ],
      "metadata": {
        "id": "QVl39MLwnKw0"
      },
      "execution_count": 50,
      "outputs": []
    },
    {
      "cell_type": "code",
      "source": [
        "print(read_and_filter_data('olive_oil.csv', 'relevant_olive_oil_categories.txt'))\n",
        "print(read_and_filter_data('sourdough.csv', 'relevant_sourdough_categories.txt'))"
      ],
      "metadata": {
        "colab": {
          "base_uri": "https://localhost:8080/"
        },
        "id": "NH3Y5x8dqOR3",
        "outputId": "ac8f47c7-daa1-4934-d4c7-0b1133638fd1"
      },
      "execution_count": 51,
      "outputs": [
        {
          "output_type": "stream",
          "name": "stderr",
          "text": [
            "<ipython-input-50-287c1f3daecf>:2: DtypeWarning: Columns (0,1,2,4,5,6,7,8,10,13,15,16,17,18,20,21,22,23,24,25,26,27,29,30,31,32,33,34,35,36,37,38,39,42,43,44,45,46,48,49,50,57,67,70,71,72,73,74,75,76,79,80,81,82,83,86,87,88,89,90,91,92,95,96,97,98,99,100,101,102,103,104,105,106,107,108,109,110,115,121,125,129,133,137,141,145,149,153,157,159,161,165,167,169,177,179,181,183,185,187,189,191,193,195,197,199,201,203,205,211,213,215,217,219,221,223,225,227,229,231,233,235,237,239,241,243,245,247,249,251,253,255,257,259,261,263,265,267,269,271,273,274,275,276,277,278,279,280,281,282,283,284,285,286,288,289,290,291,292,293,294,305,311,312,313,315,316,319,320,321,322,324) have mixed types. Specify dtype option on import or set low_memory=False.\n",
            "  df = pd.read_csv(filename, sep='\\t')\n"
          ]
        },
        {
          "output_type": "stream",
          "name": "stdout",
          "text": [
            "**olive_oil origins** \n",
            " greece \n",
            "\n",
            "Top origin country:  greece\n",
            "\n",
            "\n",
            "greece\n",
            "**sourdough origins** \n",
            " united kingdom \n",
            "\n",
            "Top origin country:  united kingdom\n",
            "\n",
            "\n",
            "united kingdom\n"
          ]
        }
      ]
    }
  ]
}